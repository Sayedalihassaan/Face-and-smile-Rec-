{
 "cells": [
  {
   "cell_type": "code",
   "execution_count": 1,
   "id": "4b9ddccb",
   "metadata": {},
   "outputs": [],
   "source": [
    "import cv2"
   ]
  },
  {
   "cell_type": "code",
   "execution_count": 2,
   "id": "c91724bc",
   "metadata": {},
   "outputs": [],
   "source": [
    "\n",
    "face_dete = cv2.CascadeClassifier(r\"D:\\New folder\\haarcascade_frontalface_default.xml\")\n",
    "eye_dete = cv2.CascadeClassifier(r\"D:\\New folder\\haarcascade_eye.xml\")\n",
    "smile_dete = cv2.CascadeClassifier(r\"D:\\New folder\\haarcascade_smile.xml\")\n",
    "\n",
    "stream = cv2.VideoCapture(0)\n",
    "\n",
    "while True:\n",
    "    st, frame = stream.read()\n",
    "\n",
    "    gray = cv2.cvtColor(frame, cv2.COLOR_BGR2GRAY)\n",
    "\n",
    "    ### Face Detect\n",
    "    faces = face_dete.detectMultiScale(gray, 1.3, 5)\n",
    "\n",
    "    for (x, y, w, h) in faces:\n",
    "        cv2.rectangle(gray, (x, y), (x+w, y+h), (0, 255, 0), 2)\n",
    "        face_only = frame[y:y+h, x:x+w]\n",
    "\n",
    "        ## Face eye\n",
    "        eyes = eye_dete.detectMultiScale(face_only)\n",
    "        for (ex, ey, ew, eh) in eyes:\n",
    "#             cv2.rectangle(face_only, (ex, ey), (ex+ew, ey+eh), (0, 0, 255), 2)\n",
    "            eye_x = int(ex + (ew/2)) - 10\n",
    "            eye_y = int(ey + (eh/2)) + 10\n",
    "            cv2.putText(face_only, \"X\", (eye_x, eye_y), cv2.FONT_HERSHEY_COMPLEX, 1.5, (0, 0, 255), 2)\n",
    "\n",
    "        ## Smile detect\n",
    "        smile_only = face_only  \n",
    "        smiles = smile_dete.detectMultiScale(smile_only, 1.3, 10)  \n",
    "        for (sx, sy, sw, sh) in smiles:\n",
    "            cv2.rectangle(face_only, (sx, sy), (sx+sw, sy+sh), (255, 0, 0), 2)  \n",
    "\n",
    "    ### Show\n",
    "    cv2.imshow(\"live stream\", gray)\n",
    "    cv2.imshow(\"face only\", face_only)\n",
    "\n",
    "    if cv2.waitKey(50) & 0xff == ord(\"x\"):\n",
    "        break\n",
    "\n",
    "stream.release()\n",
    "cv2.destroyAllWindows()\n"
   ]
  },
  {
   "cell_type": "code",
   "execution_count": null,
   "id": "14581b3a",
   "metadata": {},
   "outputs": [],
   "source": []
  }
 ],
 "metadata": {
  "kernelspec": {
   "display_name": "Python 3 (ipykernel)",
   "language": "python",
   "name": "python3"
  },
  "language_info": {
   "codemirror_mode": {
    "name": "ipython",
    "version": 3
   },
   "file_extension": ".py",
   "mimetype": "text/x-python",
   "name": "python",
   "nbconvert_exporter": "python",
   "pygments_lexer": "ipython3",
   "version": "3.10.9"
  }
 },
 "nbformat": 4,
 "nbformat_minor": 5
}
